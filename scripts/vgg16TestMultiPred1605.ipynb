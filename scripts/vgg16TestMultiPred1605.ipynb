{
 "cells": [
  {
   "cell_type": "code",
   "execution_count": 1,
   "metadata": {
    "collapsed": false
   },
   "outputs": [
    {
     "name": "stderr",
     "output_type": "stream",
     "text": [
      "Using Theano backend.\n",
      "Using gpu device 0: Tesla K80 (CNMeM is disabled, cuDNN 5103)\n",
      "/home/ubuntu/anaconda2/lib/python2.7/site-packages/theano/sandbox/cuda/__init__.py:600: UserWarning: Your cuDNN version is more recent than the one Theano officially supports. If you see any problems, try updating Theano or downgrading cuDNN to version 5.\n",
      "  warnings.warn(warn)\n"
     ]
    }
   ],
   "source": [
    "# -*- coding: utf-8 -*-\n",
    "import os\n",
    "import pandas as pd\n",
    "import numpy as np\n",
    "from PIL import Image\n",
    "import gc, math\n",
    "import pickle\n",
    "\n",
    "from keras.models import Sequential\n",
    "from keras.optimizers import SGD\n",
    "from keras.optimizers import Adam\n",
    "from keras.utils import np_utils\n",
    "from keras.models import model_from_json\n",
    "from keras.models import Model\n",
    "from keras.layers import Input, Dense, Convolution2D, MaxPooling2D, AveragePooling2D, ZeroPadding2D, Dropout, Flatten, merge, Reshape, Activation\n",
    "from keras.layers.advanced_activations import LeakyReLU, PReLU\n",
    "from keras.layers.normalization import BatchNormalization\n",
    "from keras import regularizers\n",
    "from keras import backend as K\n",
    "from keras.preprocessing import image\n",
    "from keras.preprocessing.image import ImageDataGenerator\n",
    "\n",
    "from sklearn.metrics import log_loss, accuracy_score, confusion_matrix\n",
    "\n",
    "\n",
    "from cnnmodels import vgg_std16_model, preprocess_input, create_rect5, load_img, train_generator, test_generator\n",
    "from cnnmodels import identity_block, testcv_generator, conv_block, resnet50_model"
   ]
  },
  {
   "cell_type": "code",
   "execution_count": 2,
   "metadata": {
    "collapsed": true
   },
   "outputs": [],
   "source": [
    "# Functions\n",
    "def preprocess_input(x):\n",
    "    #resnet50 image preprocessing\n",
    "    # 'RGB'->'BGR'\n",
    "    x = x[:, :, ::-1]\n",
    "    x[:, :, 0] -= 100\n",
    "    x[:, :, 1] -= 115\n",
    "    x[:, :, 2] -= 124\n",
    "    return x\n",
    "\n",
    "def create_rect5(row):\n",
    "    if is_seal:\n",
    "        return plt.Rectangle((row['x0'], row['y0']), row['w'], row['h'], color='red', fill=False, lw=2)\n",
    "    else:\n",
    "        return plt.Rectangle((row['x0'], row['y0']), row['w'], row['h'], color='red', fill=False, lw=4)\n",
    "\n",
    "def load_img(path, bbox, target_size=None):\n",
    "    img = Image.open(path)\n",
    "    img = img.convert('RGB')\n",
    "    cropped = img.crop((bbox[0],bbox[1],bbox[2],bbox[3]))\n",
    "    if target_size:\n",
    "        cropped = cropped.resize((target_size[1], target_size[0]))\n",
    "    return cropped"
   ]
  },
  {
   "cell_type": "code",
   "execution_count": 3,
   "metadata": {
    "collapsed": true
   },
   "outputs": [],
   "source": [
    "# Params\n",
    "img_rows, img_cols = 224, 224 # Resolution of inputs\n",
    "channel = 3\n",
    "num_class = 2\n",
    "ROWS, COLS = 224, 224\n",
    "BATCHSIZE = 64 # 128\n",
    "SEAL_CLASSES = ['seals_0', 'seals_1', 'seals_2_4', 'seals_5_10', 'seals_11+']\n",
    "nb_perClass = int(BATCHSIZE / len(SEAL_CLASSES))\n",
    "TRAIN_DIR = '../darknet/seals/JPEGImagesBlk'\n",
    "TEST_DIR = '../darknet/seals/JPEGImagesTest'\n",
    "num_class = len(SEAL_CLASSES)"
   ]
  },
  {
   "cell_type": "code",
   "execution_count": 4,
   "metadata": {
    "collapsed": false
   },
   "outputs": [
    {
     "data": {
      "text/html": [
       "<div>\n",
       "<table border=\"1\" class=\"dataframe\">\n",
       "  <thead>\n",
       "    <tr style=\"text-align: right;\">\n",
       "      <th></th>\n",
       "      <th>img</th>\n",
       "      <th>proba</th>\n",
       "      <th>x0</th>\n",
       "      <th>y0</th>\n",
       "      <th>x1</th>\n",
       "      <th>y1</th>\n",
       "      <th>seal</th>\n",
       "      <th>img1</th>\n",
       "      <th>predSeal</th>\n",
       "    </tr>\n",
       "  </thead>\n",
       "  <tbody>\n",
       "    <tr>\n",
       "      <th>0</th>\n",
       "      <td>332_22</td>\n",
       "      <td>0.998</td>\n",
       "      <td>444.00</td>\n",
       "      <td>9.25</td>\n",
       "      <td>544.00</td>\n",
       "      <td>109.25</td>\n",
       "      <td>1</td>\n",
       "      <td>332_22</td>\n",
       "      <td>0.987439</td>\n",
       "    </tr>\n",
       "    <tr>\n",
       "      <th>1</th>\n",
       "      <td>332_22</td>\n",
       "      <td>0.925</td>\n",
       "      <td>261.45</td>\n",
       "      <td>195.15</td>\n",
       "      <td>361.45</td>\n",
       "      <td>295.15</td>\n",
       "      <td>1</td>\n",
       "      <td>332_22</td>\n",
       "      <td>0.999877</td>\n",
       "    </tr>\n",
       "    <tr>\n",
       "      <th>2</th>\n",
       "      <td>448_21</td>\n",
       "      <td>0.989</td>\n",
       "      <td>0.00</td>\n",
       "      <td>422.25</td>\n",
       "      <td>100.00</td>\n",
       "      <td>522.25</td>\n",
       "      <td>0</td>\n",
       "      <td>448_21</td>\n",
       "      <td>0.942756</td>\n",
       "    </tr>\n",
       "    <tr>\n",
       "      <th>3</th>\n",
       "      <td>338_32</td>\n",
       "      <td>0.958</td>\n",
       "      <td>444.00</td>\n",
       "      <td>444.00</td>\n",
       "      <td>544.00</td>\n",
       "      <td>544.00</td>\n",
       "      <td>2</td>\n",
       "      <td>338_32</td>\n",
       "      <td>0.944517</td>\n",
       "    </tr>\n",
       "    <tr>\n",
       "      <th>4</th>\n",
       "      <td>338_32</td>\n",
       "      <td>0.917</td>\n",
       "      <td>444.00</td>\n",
       "      <td>4.40</td>\n",
       "      <td>544.00</td>\n",
       "      <td>104.40</td>\n",
       "      <td>2</td>\n",
       "      <td>338_32</td>\n",
       "      <td>0.994015</td>\n",
       "    </tr>\n",
       "  </tbody>\n",
       "</table>\n",
       "</div>"
      ],
      "text/plain": [
       "      img  proba      x0      y0      x1      y1  seal    img1  predSeal\n",
       "0  332_22  0.998  444.00    9.25  544.00  109.25     1  332_22  0.987439\n",
       "1  332_22  0.925  261.45  195.15  361.45  295.15     1  332_22  0.999877\n",
       "2  448_21  0.989    0.00  422.25  100.00  522.25     0  448_21  0.942756\n",
       "3  338_32  0.958  444.00  444.00  544.00  544.00     2  338_32  0.944517\n",
       "4  338_32  0.917  444.00    4.40  544.00  104.40     2  338_32  0.994015"
      ]
     },
     "execution_count": 4,
     "metadata": {},
     "output_type": "execute_result"
    }
   ],
   "source": [
    "# CV object detections\n",
    "rfcnCVtmp = pd.read_pickle('../coords/rfcnmultiCV.pkl')\n",
    "# Read in the previous preds \n",
    "dftmp = pd.concat([pd.read_csv('../coords/vggCVPreds2604_fold2.csv'),\n",
    "                pd.read_csv('../coords/vggCVPreds2604_fold1.csv')])\n",
    "dftmp.columns = ['img1', 'predSeal']\n",
    "rfcnCV = pd.concat([rfcnCVtmp.reset_index(drop=True), dftmp.reset_index(drop=True)], axis=1)\n",
    "rfcnCV = rfcnCV[rfcnCV['predSeal']>0.2].reset_index(drop=True)\n",
    "rfcnCV.head()"
   ]
  },
  {
   "cell_type": "code",
   "execution_count": 5,
   "metadata": {
    "collapsed": false
   },
   "outputs": [
    {
     "data": {
      "text/html": [
       "<div>\n",
       "<table border=\"1\" class=\"dataframe\">\n",
       "  <thead>\n",
       "    <tr style=\"text-align: right;\">\n",
       "      <th></th>\n",
       "      <th>img</th>\n",
       "      <th>proba</th>\n",
       "      <th>x0</th>\n",
       "      <th>y0</th>\n",
       "      <th>x1</th>\n",
       "      <th>y1</th>\n",
       "      <th>seal</th>\n",
       "      <th>img1</th>\n",
       "      <th>predSeal</th>\n",
       "      <th>seal_cut</th>\n",
       "      <th>seals_0</th>\n",
       "      <th>seals_1</th>\n",
       "      <th>seals_2_4</th>\n",
       "      <th>seals_5_10</th>\n",
       "      <th>seals_11+</th>\n",
       "    </tr>\n",
       "  </thead>\n",
       "  <tbody>\n",
       "    <tr>\n",
       "      <th>0</th>\n",
       "      <td>332_22</td>\n",
       "      <td>0.998</td>\n",
       "      <td>444.00</td>\n",
       "      <td>9.25</td>\n",
       "      <td>544.00</td>\n",
       "      <td>109.25</td>\n",
       "      <td>1</td>\n",
       "      <td>332_22</td>\n",
       "      <td>0.987439</td>\n",
       "      <td>(0, 1]</td>\n",
       "      <td>0</td>\n",
       "      <td>1</td>\n",
       "      <td>0</td>\n",
       "      <td>0</td>\n",
       "      <td>0</td>\n",
       "    </tr>\n",
       "    <tr>\n",
       "      <th>1</th>\n",
       "      <td>332_22</td>\n",
       "      <td>0.925</td>\n",
       "      <td>261.45</td>\n",
       "      <td>195.15</td>\n",
       "      <td>361.45</td>\n",
       "      <td>295.15</td>\n",
       "      <td>1</td>\n",
       "      <td>332_22</td>\n",
       "      <td>0.999877</td>\n",
       "      <td>(0, 1]</td>\n",
       "      <td>0</td>\n",
       "      <td>1</td>\n",
       "      <td>0</td>\n",
       "      <td>0</td>\n",
       "      <td>0</td>\n",
       "    </tr>\n",
       "    <tr>\n",
       "      <th>2</th>\n",
       "      <td>448_21</td>\n",
       "      <td>0.989</td>\n",
       "      <td>0.00</td>\n",
       "      <td>422.25</td>\n",
       "      <td>100.00</td>\n",
       "      <td>522.25</td>\n",
       "      <td>0</td>\n",
       "      <td>448_21</td>\n",
       "      <td>0.942756</td>\n",
       "      <td>(-1, 0]</td>\n",
       "      <td>1</td>\n",
       "      <td>0</td>\n",
       "      <td>0</td>\n",
       "      <td>0</td>\n",
       "      <td>0</td>\n",
       "    </tr>\n",
       "    <tr>\n",
       "      <th>3</th>\n",
       "      <td>338_32</td>\n",
       "      <td>0.958</td>\n",
       "      <td>444.00</td>\n",
       "      <td>444.00</td>\n",
       "      <td>544.00</td>\n",
       "      <td>544.00</td>\n",
       "      <td>2</td>\n",
       "      <td>338_32</td>\n",
       "      <td>0.944517</td>\n",
       "      <td>(1, 4]</td>\n",
       "      <td>0</td>\n",
       "      <td>0</td>\n",
       "      <td>1</td>\n",
       "      <td>0</td>\n",
       "      <td>0</td>\n",
       "    </tr>\n",
       "    <tr>\n",
       "      <th>4</th>\n",
       "      <td>338_32</td>\n",
       "      <td>0.917</td>\n",
       "      <td>444.00</td>\n",
       "      <td>4.40</td>\n",
       "      <td>544.00</td>\n",
       "      <td>104.40</td>\n",
       "      <td>2</td>\n",
       "      <td>338_32</td>\n",
       "      <td>0.994015</td>\n",
       "      <td>(1, 4]</td>\n",
       "      <td>0</td>\n",
       "      <td>0</td>\n",
       "      <td>1</td>\n",
       "      <td>0</td>\n",
       "      <td>0</td>\n",
       "    </tr>\n",
       "  </tbody>\n",
       "</table>\n",
       "</div>"
      ],
      "text/plain": [
       "      img  proba      x0      y0      x1      y1  seal    img1  predSeal  \\\n",
       "0  332_22  0.998  444.00    9.25  544.00  109.25     1  332_22  0.987439   \n",
       "1  332_22  0.925  261.45  195.15  361.45  295.15     1  332_22  0.999877   \n",
       "2  448_21  0.989    0.00  422.25  100.00  522.25     0  448_21  0.942756   \n",
       "3  338_32  0.958  444.00  444.00  544.00  544.00     2  338_32  0.944517   \n",
       "4  338_32  0.917  444.00    4.40  544.00  104.40     2  338_32  0.994015   \n",
       "\n",
       "  seal_cut  seals_0  seals_1  seals_2_4  seals_5_10  seals_11+  \n",
       "0   (0, 1]        0        1          0           0          0  \n",
       "1   (0, 1]        0        1          0           0          0  \n",
       "2  (-1, 0]        1        0          0           0          0  \n",
       "3   (1, 4]        0        0          1           0          0  \n",
       "4   (1, 4]        0        0          1           0          0  "
      ]
     },
     "execution_count": 5,
     "metadata": {},
     "output_type": "execute_result"
    }
   ],
   "source": [
    "# Add on the classes for bins\n",
    "rfcnCV['seal_cut'] = pd.cut(rfcnCV['seal'], bins = [-1,0,1,4,10,30])\n",
    "rfcnCV['seals_0'] = np.where(rfcnCV['seal']==0, 1, 0)\n",
    "rfcnCV['seals_1'] = np.where(rfcnCV['seal'] == 1, 1, 0)\n",
    "rfcnCV['seals_2_4'] = np.where(rfcnCV['seal'].between(2,4), 1, 0)\n",
    "rfcnCV['seals_5_10'] = np.where(rfcnCV['seal'].between(5,10), 1, 0)\n",
    "rfcnCV['seals_11+'] = np.where(rfcnCV['seal']>10, 1, 0)\n",
    "rfcnCV.head(5)"
   ]
  },
  {
   "cell_type": "code",
   "execution_count": 6,
   "metadata": {
    "collapsed": false
   },
   "outputs": [
    {
     "name": "stdout",
     "output_type": "stream",
     "text": [
      "(863969, 8)\n"
     ]
    },
    {
     "data": {
      "text/html": [
       "<div>\n",
       "<table border=\"1\" class=\"dataframe\">\n",
       "  <thead>\n",
       "    <tr style=\"text-align: right;\">\n",
       "      <th></th>\n",
       "      <th>img</th>\n",
       "      <th>proba</th>\n",
       "      <th>x0</th>\n",
       "      <th>y0</th>\n",
       "      <th>x1</th>\n",
       "      <th>y1</th>\n",
       "      <th>img1</th>\n",
       "      <th>predSeal</th>\n",
       "    </tr>\n",
       "  </thead>\n",
       "  <tbody>\n",
       "    <tr>\n",
       "      <th>0</th>\n",
       "      <td>11710_62</td>\n",
       "      <td>0.963</td>\n",
       "      <td>444.00</td>\n",
       "      <td>12.00</td>\n",
       "      <td>544.00</td>\n",
       "      <td>112.00</td>\n",
       "      <td>11710_62</td>\n",
       "      <td>0.741276</td>\n",
       "    </tr>\n",
       "    <tr>\n",
       "      <th>1</th>\n",
       "      <td>17920_13</td>\n",
       "      <td>0.939</td>\n",
       "      <td>3.85</td>\n",
       "      <td>444.00</td>\n",
       "      <td>103.85</td>\n",
       "      <td>544.00</td>\n",
       "      <td>17920_13</td>\n",
       "      <td>0.788811</td>\n",
       "    </tr>\n",
       "    <tr>\n",
       "      <th>2</th>\n",
       "      <td>7121_51</td>\n",
       "      <td>0.989</td>\n",
       "      <td>55.25</td>\n",
       "      <td>424.95</td>\n",
       "      <td>155.25</td>\n",
       "      <td>524.95</td>\n",
       "      <td>7121_51</td>\n",
       "      <td>0.606451</td>\n",
       "    </tr>\n",
       "    <tr>\n",
       "      <th>3</th>\n",
       "      <td>15778_83</td>\n",
       "      <td>0.982</td>\n",
       "      <td>0.00</td>\n",
       "      <td>444.00</td>\n",
       "      <td>100.00</td>\n",
       "      <td>544.00</td>\n",
       "      <td>15778_83</td>\n",
       "      <td>0.619216</td>\n",
       "    </tr>\n",
       "    <tr>\n",
       "      <th>4</th>\n",
       "      <td>15778_83</td>\n",
       "      <td>0.970</td>\n",
       "      <td>444.00</td>\n",
       "      <td>218.40</td>\n",
       "      <td>544.00</td>\n",
       "      <td>318.40</td>\n",
       "      <td>15778_83</td>\n",
       "      <td>0.873984</td>\n",
       "    </tr>\n",
       "  </tbody>\n",
       "</table>\n",
       "</div>"
      ],
      "text/plain": [
       "        img  proba      x0      y0      x1      y1      img1  predSeal\n",
       "0  11710_62  0.963  444.00   12.00  544.00  112.00  11710_62  0.741276\n",
       "1  17920_13  0.939    3.85  444.00  103.85  544.00  17920_13  0.788811\n",
       "2   7121_51  0.989   55.25  424.95  155.25  524.95   7121_51  0.606451\n",
       "3  15778_83  0.982    0.00  444.00  100.00  544.00  15778_83  0.619216\n",
       "4  15778_83  0.970  444.00  218.40  544.00  318.40  15778_83  0.873984"
      ]
     },
     "execution_count": 6,
     "metadata": {},
     "output_type": "execute_result"
    }
   ],
   "source": [
    "# Test object detections\n",
    "rfcnTsttmp = pd.read_pickle('../coords/rfcnmultiTst.pkl')\n",
    "# Read in the previous preds \n",
    "dftmp = pd.read_csv('../coords/vggTestPreds2604.csv')\n",
    "dftmp.columns = ['img1', 'predSeal']\n",
    "rfcnTst = pd.concat([rfcnTsttmp.reset_index(drop=True), dftmp.reset_index(drop=True)], axis=1)\n",
    "rfcnTst = rfcnTst[rfcnTst['predSeal']>0.2].reset_index(drop=True)\n",
    "print(rfcnTst.shape)\n",
    "rfcnTst.head()"
   ]
  },
  {
   "cell_type": "code",
   "execution_count": 7,
   "metadata": {
    "collapsed": false
   },
   "outputs": [
    {
     "name": "stdout",
     "output_type": "stream",
     "text": [
      "[0, 1, 0, 0, 0]\n",
      "[0, 1, 0, 0, 0]\n",
      "[1, 0, 0, 0, 0]\n",
      "[0, 0, 1, 0, 0]\n",
      "[0, 0, 1, 0, 0]\n"
     ]
    }
   ],
   "source": [
    "for c, row in rfcnCV.iterrows():\n",
    "    if c==5:break\n",
    "    print row.tolist()[10:]"
   ]
  },
  {
   "cell_type": "code",
   "execution_count": 8,
   "metadata": {
    "collapsed": false
   },
   "outputs": [],
   "source": [
    "def train_generator(datagen, df):\n",
    "    while 1:\n",
    "        batch_x = np.zeros((BATCHSIZE, ROWS, COLS, 3), dtype=K.floatx())\n",
    "        batch_y = np.zeros((BATCHSIZE, len(SEAL_CLASSES)), dtype=K.floatx())\n",
    "        fn = lambda obj: obj.loc[np.random.choice(obj.index, size=nb_perClass, replace=False),:]\n",
    "        batch_df = df.groupby(['seal_cut'], as_index=True).apply(fn)\n",
    "        i = 0\n",
    "        for index,row in batch_df.iterrows():\n",
    "            row = row.tolist()\n",
    "            image_file = os.path.join(TRAIN_DIR, row[0])\n",
    "            seal = row[6]\n",
    "            bbox = row[2:6]\n",
    "            cropped = load_img(image_file+'.jpg',bbox,target_size=(ROWS,COLS))\n",
    "            x = np.asarray(cropped, dtype=K.floatx())\n",
    "            x = datagen.random_transform(x)\n",
    "            x = preprocess_input(x)\n",
    "            batch_x[i] = x\n",
    "            batch_y[i] = row[10:] # Add in all classes\n",
    "            i += 1\n",
    "        yield (batch_x.transpose(0, 3, 1, 2), batch_y)\n",
    "        #return (batch_x.transpose(0, 3, 1, 2), batch_y)\n",
    "\n",
    "def test_generator(df, datagen = None, batch_size = BATCHSIZE):\n",
    "    n = df.shape[0]\n",
    "    batch_index = 0\n",
    "    while 1:\n",
    "        current_index = batch_index * batch_size\n",
    "        if n >= current_index + batch_size:\n",
    "            current_batch_size = batch_size\n",
    "            batch_index += 1    \n",
    "        else:\n",
    "            current_batch_size = n - current_index\n",
    "            batch_index = 0        \n",
    "        batch_df = df[current_index:current_index+current_batch_size]\n",
    "        batch_x = np.zeros((batch_df.shape[0], ROWS, COLS, 3), dtype=K.floatx())\n",
    "        i = 0\n",
    "        for index,row in batch_df.iterrows():\n",
    "            row = row.tolist()\n",
    "            image_file = os.path.join(TEST_DIR, row[0]+'.jpg')\n",
    "            bbox = row[2:6]\n",
    "            cropped = load_img(image_file,bbox,target_size=(ROWS,COLS))\n",
    "            x = np.asarray(cropped, dtype=K.floatx())\n",
    "            if datagen is not None: x = datagen.random_transform(x)            \n",
    "            x = preprocess_input(x)\n",
    "            batch_x[i] = x\n",
    "            i += 1\n",
    "        if batch_index%16000 == 0: print(batch_index)\n",
    "        #return(batch_x.transpose(0, 3, 1, 2))\n",
    "        yield(batch_x.transpose(0, 3, 1, 2))\n",
    "        \n",
    "# Data generator\n",
    "train_datagen = ImageDataGenerator(\n",
    "    horizontal_flip=True,\n",
    "    vertical_flip=True)"
   ]
  },
  {
   "cell_type": "code",
   "execution_count": 9,
   "metadata": {
    "collapsed": false
   },
   "outputs": [],
   "source": [
    "# Lets make our validation set\n",
    "CVsplit = rfcnCV.img.str.split('_').apply(lambda x: x[0]).astype(int) % 40 == 0\n",
    "train_df = rfcnCV[~CVsplit]\n",
    "valid_df = rfcnCV[CVsplit]\n",
    "test_df = rfcnTst"
   ]
  },
  {
   "cell_type": "code",
   "execution_count": 10,
   "metadata": {
    "collapsed": false
   },
   "outputs": [
    {
     "data": {
      "text/html": [
       "<div>\n",
       "<table border=\"1\" class=\"dataframe\">\n",
       "  <thead>\n",
       "    <tr style=\"text-align: right;\">\n",
       "      <th></th>\n",
       "      <th>img</th>\n",
       "      <th>proba</th>\n",
       "      <th>x0</th>\n",
       "      <th>y0</th>\n",
       "      <th>x1</th>\n",
       "      <th>y1</th>\n",
       "      <th>img1</th>\n",
       "      <th>predSeal</th>\n",
       "    </tr>\n",
       "  </thead>\n",
       "  <tbody>\n",
       "    <tr>\n",
       "      <th>0</th>\n",
       "      <td>11710_62</td>\n",
       "      <td>0.963</td>\n",
       "      <td>444.00</td>\n",
       "      <td>12.00</td>\n",
       "      <td>544.00</td>\n",
       "      <td>112.00</td>\n",
       "      <td>11710_62</td>\n",
       "      <td>0.741276</td>\n",
       "    </tr>\n",
       "    <tr>\n",
       "      <th>1</th>\n",
       "      <td>17920_13</td>\n",
       "      <td>0.939</td>\n",
       "      <td>3.85</td>\n",
       "      <td>444.00</td>\n",
       "      <td>103.85</td>\n",
       "      <td>544.00</td>\n",
       "      <td>17920_13</td>\n",
       "      <td>0.788811</td>\n",
       "    </tr>\n",
       "    <tr>\n",
       "      <th>2</th>\n",
       "      <td>7121_51</td>\n",
       "      <td>0.989</td>\n",
       "      <td>55.25</td>\n",
       "      <td>424.95</td>\n",
       "      <td>155.25</td>\n",
       "      <td>524.95</td>\n",
       "      <td>7121_51</td>\n",
       "      <td>0.606451</td>\n",
       "    </tr>\n",
       "    <tr>\n",
       "      <th>3</th>\n",
       "      <td>15778_83</td>\n",
       "      <td>0.982</td>\n",
       "      <td>0.00</td>\n",
       "      <td>444.00</td>\n",
       "      <td>100.00</td>\n",
       "      <td>544.00</td>\n",
       "      <td>15778_83</td>\n",
       "      <td>0.619216</td>\n",
       "    </tr>\n",
       "    <tr>\n",
       "      <th>4</th>\n",
       "      <td>15778_83</td>\n",
       "      <td>0.970</td>\n",
       "      <td>444.00</td>\n",
       "      <td>218.40</td>\n",
       "      <td>544.00</td>\n",
       "      <td>318.40</td>\n",
       "      <td>15778_83</td>\n",
       "      <td>0.873984</td>\n",
       "    </tr>\n",
       "  </tbody>\n",
       "</table>\n",
       "</div>"
      ],
      "text/plain": [
       "        img  proba      x0      y0      x1      y1      img1  predSeal\n",
       "0  11710_62  0.963  444.00   12.00  544.00  112.00  11710_62  0.741276\n",
       "1  17920_13  0.939    3.85  444.00  103.85  544.00  17920_13  0.788811\n",
       "2   7121_51  0.989   55.25  424.95  155.25  524.95   7121_51  0.606451\n",
       "3  15778_83  0.982    0.00  444.00  100.00  544.00  15778_83  0.619216\n",
       "4  15778_83  0.970  444.00  218.40  544.00  318.40  15778_83  0.873984"
      ]
     },
     "execution_count": 10,
     "metadata": {},
     "output_type": "execute_result"
    }
   ],
   "source": [
    "test_df.head()"
   ]
  },
  {
   "cell_type": "code",
   "execution_count": 11,
   "metadata": {
    "collapsed": false
   },
   "outputs": [
    {
     "data": {
      "text/plain": [
       "(1862, 3, 224, 224)"
      ]
     },
     "execution_count": 11,
     "metadata": {},
     "output_type": "execute_result"
    }
   ],
   "source": [
    "# validation_data (valid_x,valid_y)\n",
    "df_1 = valid_df\n",
    "l = valid_df.groupby('seal_cut').size() \n",
    "nb_NoF_valid = math.ceil(l.sum()/10)\n",
    "valid_x = np.zeros((valid_df.shape[0], ROWS, COLS, 3), dtype=K.floatx())\n",
    "valid_y = np.zeros((valid_df.shape[0], len(SEAL_CLASSES)), dtype=K.floatx())\n",
    "i = 0\n",
    "for index,row in valid_df.iterrows():\n",
    "    row = row.tolist()\n",
    "    image_file = os.path.join(TRAIN_DIR, row[0])\n",
    "    seal = row[6]\n",
    "    bbox = row[2:6]\n",
    "    cropped = load_img(image_file+'.jpg',bbox,target_size=(ROWS,COLS))\n",
    "    x = np.asarray(cropped, dtype=K.floatx())\n",
    "    x = preprocess_input(x)\n",
    "    valid_x[i] = x\n",
    "    valid_y[i] = row[10:]\n",
    "    i += 1\n",
    "valid_x = valid_x.transpose(0, 3, 1, 2)\n",
    "valid_x.shape"
   ]
  },
  {
   "cell_type": "code",
   "execution_count": 12,
   "metadata": {
    "collapsed": false,
    "scrolled": true
   },
   "outputs": [
    {
     "name": "stdout",
     "output_type": "stream",
     "text": [
      "Epoch 1/2\n",
      " 64/100 [==================>...........] - ETA: 2s - loss: 3.9028 - acc: 0.1875"
     ]
    },
    {
     "name": "stderr",
     "output_type": "stream",
     "text": [
      "/home/ubuntu/anaconda2/lib/python2.7/site-packages/keras/engine/training.py:1573: UserWarning: Epoch comprised more than `samples_per_epoch` samples, which might affect learning results. Set `samples_per_epoch` correctly to avoid this warning.\n",
      "  warnings.warn('Epoch comprised more than '\n"
     ]
    },
    {
     "name": "stdout",
     "output_type": "stream",
     "text": [
      "128/100 [======================================] - 55s - loss: 2.9118 - acc: 0.2266 - val_loss: 1.5962 - val_acc: 0.2170\n",
      "Epoch 2/2\n",
      "128/100 [======================================] - 54s - loss: 1.5886 - acc: 0.2266 - val_loss: 1.9265 - val_acc: 0.0569\n"
     ]
    },
    {
     "data": {
      "text/plain": [
       "<keras.callbacks.History at 0x7f1df40520d0>"
      ]
     },
     "execution_count": 12,
     "metadata": {},
     "output_type": "execute_result"
    }
   ],
   "source": [
    "# Load our model\n",
    "nb_epoch = 2\n",
    "samples_per_epoch = 70400\n",
    "model = vgg_std16_model(ROWS, COLS, channel, num_class)\n",
    "\n",
    "# Start Fine-tuning\n",
    "model.fit_generator(train_generator(train_datagen, train_df),\n",
    "          nb_epoch=nb_epoch,\n",
    "          samples_per_epoch=samples_per_epoch, #50000,\n",
    "          verbose=1,\n",
    "          validation_data=(valid_x, valid_y),\n",
    "          )"
   ]
  },
  {
   "cell_type": "code",
   "execution_count": 13,
   "metadata": {
    "collapsed": false
   },
   "outputs": [
    {
     "name": "stdout",
     "output_type": "stream",
     "text": [
      "Epoch 1/3\n",
      "128/100 [======================================] - 55s - loss: 1.5332 - acc: 0.2656 - val_loss: 1.5132 - val_acc: 0.3330\n",
      "Epoch 2/3\n",
      "128/100 [======================================] - 54s - loss: 1.6941 - acc: 0.1875 - val_loss: 1.5036 - val_acc: 0.3539\n",
      "Epoch 3/3\n",
      "128/100 [======================================] - 54s - loss: 1.8403 - acc: 0.1875 - val_loss: 1.4509 - val_acc: 0.2664\n"
     ]
    },
    {
     "data": {
      "text/plain": [
       "<keras.callbacks.History at 0x7f1d9e2129d0>"
      ]
     },
     "execution_count": 13,
     "metadata": {},
     "output_type": "execute_result"
    }
   ],
   "source": [
    "for layer in model.layers[10:]:\n",
    "    layer.trainable = True\n",
    "model.optimizer.lr = 1e-4\n",
    "nb_epoch = 3\n",
    "model.fit_generator(train_generator(train_datagen, df=train_df),\n",
    "          nb_epoch=nb_epoch,\n",
    "          samples_per_epoch=samples_per_epoch,\n",
    "          verbose=1,\n",
    "          validation_data=(valid_x, valid_y),\n",
    "          )"
   ]
  },
  {
   "cell_type": "code",
   "execution_count": 16,
   "metadata": {
    "collapsed": false
   },
   "outputs": [
    {
     "name": "stdout",
     "output_type": "stream",
     "text": [
      "0\n"
     ]
    }
   ],
   "source": [
    "# test_preds = test_model.predict_generator(test_generator(test_df), val_samples=test_df.shape[0]))\n",
    "test_preds = model.predict_generator(test_generator(test_df), val_samples=test_df.shape[0])"
   ]
  },
  {
   "cell_type": "code",
   "execution_count": 17,
   "metadata": {
    "collapsed": false
   },
   "outputs": [],
   "source": [
    "df = pd.concat([test_df, pd.DataFrame(test_preds,  columns=SEAL_CLASSES)], axis=1)\n",
    "df.to_pickle('../coords/vggTestMultiPreds1605.pkl')"
   ]
  },
  {
   "cell_type": "code",
   "execution_count": 27,
   "metadata": {
    "collapsed": false
   },
   "outputs": [
    {
     "data": {
      "text/html": [
       "<div>\n",
       "<table border=\"1\" class=\"dataframe\">\n",
       "  <thead>\n",
       "    <tr style=\"text-align: right;\">\n",
       "      <th></th>\n",
       "      <th>img</th>\n",
       "      <th>proba</th>\n",
       "      <th>x0</th>\n",
       "      <th>y0</th>\n",
       "      <th>x1</th>\n",
       "      <th>y1</th>\n",
       "      <th>img1</th>\n",
       "      <th>predSeal</th>\n",
       "      <th>seals_0</th>\n",
       "      <th>seals_1</th>\n",
       "      <th>seals_2_4</th>\n",
       "      <th>seals_5_10</th>\n",
       "      <th>seals_11+</th>\n",
       "    </tr>\n",
       "  </thead>\n",
       "  <tbody>\n",
       "    <tr>\n",
       "      <th>0</th>\n",
       "      <td>11710_62</td>\n",
       "      <td>0.963</td>\n",
       "      <td>444.00</td>\n",
       "      <td>12.00</td>\n",
       "      <td>544.00</td>\n",
       "      <td>112.00</td>\n",
       "      <td>11710_62</td>\n",
       "      <td>0.741276</td>\n",
       "      <td>0.129170</td>\n",
       "      <td>0.351934</td>\n",
       "      <td>0.211231</td>\n",
       "      <td>0.233157</td>\n",
       "      <td>0.074509</td>\n",
       "    </tr>\n",
       "    <tr>\n",
       "      <th>1</th>\n",
       "      <td>17920_13</td>\n",
       "      <td>0.939</td>\n",
       "      <td>3.85</td>\n",
       "      <td>444.00</td>\n",
       "      <td>103.85</td>\n",
       "      <td>544.00</td>\n",
       "      <td>17920_13</td>\n",
       "      <td>0.788811</td>\n",
       "      <td>0.104397</td>\n",
       "      <td>0.359540</td>\n",
       "      <td>0.297087</td>\n",
       "      <td>0.191007</td>\n",
       "      <td>0.047968</td>\n",
       "    </tr>\n",
       "    <tr>\n",
       "      <th>2</th>\n",
       "      <td>7121_51</td>\n",
       "      <td>0.989</td>\n",
       "      <td>55.25</td>\n",
       "      <td>424.95</td>\n",
       "      <td>155.25</td>\n",
       "      <td>524.95</td>\n",
       "      <td>7121_51</td>\n",
       "      <td>0.606451</td>\n",
       "      <td>0.136604</td>\n",
       "      <td>0.307602</td>\n",
       "      <td>0.190649</td>\n",
       "      <td>0.279917</td>\n",
       "      <td>0.085228</td>\n",
       "    </tr>\n",
       "    <tr>\n",
       "      <th>3</th>\n",
       "      <td>15778_83</td>\n",
       "      <td>0.982</td>\n",
       "      <td>0.00</td>\n",
       "      <td>444.00</td>\n",
       "      <td>100.00</td>\n",
       "      <td>544.00</td>\n",
       "      <td>15778_83</td>\n",
       "      <td>0.619216</td>\n",
       "      <td>0.127126</td>\n",
       "      <td>0.347254</td>\n",
       "      <td>0.289869</td>\n",
       "      <td>0.178432</td>\n",
       "      <td>0.057318</td>\n",
       "    </tr>\n",
       "    <tr>\n",
       "      <th>4</th>\n",
       "      <td>15778_83</td>\n",
       "      <td>0.970</td>\n",
       "      <td>444.00</td>\n",
       "      <td>218.40</td>\n",
       "      <td>544.00</td>\n",
       "      <td>318.40</td>\n",
       "      <td>15778_83</td>\n",
       "      <td>0.873984</td>\n",
       "      <td>0.165854</td>\n",
       "      <td>0.280094</td>\n",
       "      <td>0.265157</td>\n",
       "      <td>0.216112</td>\n",
       "      <td>0.072784</td>\n",
       "    </tr>\n",
       "  </tbody>\n",
       "</table>\n",
       "</div>"
      ],
      "text/plain": [
       "        img  proba      x0      y0      x1      y1      img1  predSeal  \\\n",
       "0  11710_62  0.963  444.00   12.00  544.00  112.00  11710_62  0.741276   \n",
       "1  17920_13  0.939    3.85  444.00  103.85  544.00  17920_13  0.788811   \n",
       "2   7121_51  0.989   55.25  424.95  155.25  524.95   7121_51  0.606451   \n",
       "3  15778_83  0.982    0.00  444.00  100.00  544.00  15778_83  0.619216   \n",
       "4  15778_83  0.970  444.00  218.40  544.00  318.40  15778_83  0.873984   \n",
       "\n",
       "    seals_0   seals_1  seals_2_4  seals_5_10  seals_11+  \n",
       "0  0.129170  0.351934   0.211231    0.233157   0.074509  \n",
       "1  0.104397  0.359540   0.297087    0.191007   0.047968  \n",
       "2  0.136604  0.307602   0.190649    0.279917   0.085228  \n",
       "3  0.127126  0.347254   0.289869    0.178432   0.057318  \n",
       "4  0.165854  0.280094   0.265157    0.216112   0.072784  "
      ]
     },
     "execution_count": 27,
     "metadata": {},
     "output_type": "execute_result"
    }
   ],
   "source": [
    "df[[0]+range(8, 13)].to_csv('../coords/vggTestMultiPreds1605.csv', index=False)\n",
    "df.head(5)"
   ]
  }
 ],
 "metadata": {
  "anaconda-cloud": {},
  "kernelspec": {
   "display_name": "Python [conda root]",
   "language": "python",
   "name": "conda-root-py"
  },
  "language_info": {
   "codemirror_mode": {
    "name": "ipython",
    "version": 2
   },
   "file_extension": ".py",
   "mimetype": "text/x-python",
   "name": "python",
   "nbconvert_exporter": "python",
   "pygments_lexer": "ipython2",
   "version": "2.7.12"
  }
 },
 "nbformat": 4,
 "nbformat_minor": 1
}
