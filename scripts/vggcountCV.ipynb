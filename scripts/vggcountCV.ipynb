{
 "cells": [
  {
   "cell_type": "code",
   "execution_count": 1,
   "metadata": {
    "collapsed": false
   },
   "outputs": [
    {
     "name": "stderr",
     "output_type": "stream",
     "text": [
      "Using Theano backend.\n",
      "Using gpu device 0: Tesla K80 (CNMeM is disabled, cuDNN 5103)\n",
      "/home/ubuntu/anaconda2/lib/python2.7/site-packages/theano/sandbox/cuda/__init__.py:600: UserWarning: Your cuDNN version is more recent than the one Theano officially supports. If you see any problems, try updating Theano or downgrading cuDNN to version 5.\n",
      "  warnings.warn(warn)\n"
     ]
    }
   ],
   "source": [
    "# -*- coding: utf-8 -*-\n",
    "import os\n",
    "import pandas as pd\n",
    "import numpy as np\n",
    "from PIL import Image\n",
    "import gc, math\n",
    "import pickle\n",
    "\n",
    "from keras.models import Sequential\n",
    "from keras.optimizers import SGD\n",
    "from keras.optimizers import Adam\n",
    "from keras.utils import np_utils\n",
    "from keras.models import model_from_json\n",
    "from keras.models import Model\n",
    "from keras.layers import Input, Dense, Convolution2D, MaxPooling2D, AveragePooling2D, ZeroPadding2D, Dropout, Flatten, merge, Reshape, Activation\n",
    "from keras.layers.advanced_activations import LeakyReLU, PReLU\n",
    "\n",
    "from keras.layers import Conv2D, MaxPooling2D, UpSampling2D, GlobalAveragePooling1D, GlobalAveragePooling2D, Input\n",
    "from keras.layers.normalization import BatchNormalization\n",
    "from keras import regularizers\n",
    "from keras import backend as K\n",
    "from keras.preprocessing import image\n",
    "from keras.preprocessing.image import ImageDataGenerator\n",
    "\n",
    "from sklearn.metrics import log_loss, accuracy_score, confusion_matrix\n",
    "\n",
    "from cnnmsemodels import vgg_std16_model, preprocess_input, create_rect5, load_img\n",
    "from cnnmsemodels import identity_block, conv_block, resnet50_model\n",
    "from sklearn.metrics import log_loss, accuracy_score, confusion_matrix\n",
    "import keras\n",
    "from keras.models import Sequential\n",
    "from keras.layers import Dense, Dropout, Flatten\n",
    "from keras.layers import Conv2D, MaxPooling2D, UpSampling2D, GlobalAveragePooling2D, Input\n",
    "from keras.models import Model\n",
    "from keras import backend as K\n",
    "from keras.layers import Activation\n",
    "from keras.layers import BatchNormalization\n",
    "from keras.models import load_model\n",
    "from keras.preprocessing.image import ImageDataGenerator\n",
    "\n",
    "\n",
    "%matplotlib inline"
   ]
  },
  {
   "cell_type": "code",
   "execution_count": 2,
   "metadata": {
    "collapsed": true
   },
   "outputs": [],
   "source": [
    "# Params\n",
    "img_rows, img_cols = 224, 224 # Resolution of inputs\n",
    "channel = 3\n",
    "num_class = 1\n",
    "ROWS, COLS = 224, 224\n",
    "BATCHSIZE = 64\n",
    "SEAL_CLASSES = ['NoS', 'seal']\n",
    "bins = [0, 1, 1000]\n",
    "nb_perClass = int(BATCHSIZE / len(bins))\n",
    "TRAIN_DIR = '../darknet/seals/JPEGImagesBlk'\n",
    "TEST_DIR = '../darknet/seals/JPEGImagesTest'\n",
    "FEAT_DIR = \"../feat\"\n",
    "# Data generator\n",
    "train_datagen = ImageDataGenerator(\n",
    "    horizontal_flip=True,\n",
    "    vertical_flip=True)"
   ]
  },
  {
   "cell_type": "code",
   "execution_count": 3,
   "metadata": {
    "collapsed": false
   },
   "outputs": [],
   "source": [
    "def get_model(img_rows, img_cols, channel=1, num_class=1):\n",
    "    input_shape = (channel, img_rows, img_cols)\n",
    "\n",
    "    model = Sequential()\n",
    "    model.add(ZeroPadding2D((1, 1), input_shape=(channel, img_rows, img_cols)))\n",
    "    model.add(Convolution2D(64, 3, 3, activation='relu'))\n",
    "    model.add(ZeroPadding2D((1, 1)))\n",
    "    model.add(Convolution2D(64, 3, 3, activation='relu'))\n",
    "    model.add(MaxPooling2D((2, 2), strides=(2, 2)))\n",
    "\n",
    "    model.add(ZeroPadding2D((1, 1)))\n",
    "    model.add(Convolution2D(128, 3, 3, activation='relu'))\n",
    "    model.add(ZeroPadding2D((1, 1)))\n",
    "    model.add(Convolution2D(128, 3, 3, activation='relu'))\n",
    "    model.add(MaxPooling2D((2, 2), strides=(2, 2)))\n",
    "\n",
    "    model.add(ZeroPadding2D((1, 1)))\n",
    "    model.add(Convolution2D(256, 3, 3, activation='relu'))\n",
    "    model.add(ZeroPadding2D((1, 1)))\n",
    "    model.add(Convolution2D(256, 3, 3, activation='relu'))\n",
    "    model.add(ZeroPadding2D((1, 1)))\n",
    "    model.add(Convolution2D(256, 3, 3, activation='relu'))\n",
    "    model.add(MaxPooling2D((2, 2), strides=(2, 2)))\n",
    "    \n",
    "    model.add(Convolution2D(1, 3, 3, activation='relu'))\n",
    "    model.add(Activation('relu'))\n",
    "    model.add(MaxPooling2D(pool_size=(2, 2)))\n",
    "\n",
    "    model.add(GlobalAveragePooling2D())\n",
    "    \n",
    "    #print (model.summary())\n",
    "    sgd = SGD(lr=1e-5, decay=1e-6, momentum=0.9, nesterov=True)\n",
    "    model.compile(loss='mean_squared_error', optimizer=sgd)\n",
    "             \n",
    "    return model\n",
    "\n",
    "def train_generator(datagen, df):\n",
    "    while 1:\n",
    "        batch_x = np.zeros((BATCHSIZE, ROWS, COLS, 3), dtype=K.floatx())\n",
    "        batch_y = np.zeros((BATCHSIZE, 1), dtype=K.floatx())\n",
    "        fn = lambda obj: obj.loc[np.random.choice(obj.index, size=nb_perClass, replace=False),:]\n",
    "        batch_df = df.groupby(['bins'], as_index=True).apply(fn)\n",
    "        i = 0\n",
    "        for index,row in batch_df.iterrows():\n",
    "            row = row.tolist()\n",
    "            image_file = os.path.join(TRAIN_DIR, row[0])\n",
    "            cropped = load_img(image_file+'.jpg',target_size=(ROWS,COLS))\n",
    "            x = np.asarray(cropped, dtype=K.floatx())\n",
    "            x = datagen.random_transform(x)\n",
    "            x = preprocess_input(x)\n",
    "            batch_x[i] = x\n",
    "            batch_y[i] = row[1]\n",
    "            i += 1\n",
    "        yield (batch_x.transpose(0, 3, 1, 2), batch_y)\n",
    "        #return (batch_x.transpose(0, 3, 1, 2), batch_y)\n",
    "def testcv_generator(df, batch_size = BATCHSIZE):\n",
    "    n = df.shape[0]\n",
    "    batch_index = 0\n",
    "    while 1:\n",
    "        current_index = batch_index * batch_size\n",
    "        if n >= current_index + batch_size:\n",
    "            current_batch_size = batch_size\n",
    "            batch_index += 1    \n",
    "        else:\n",
    "            current_batch_size = n - current_index\n",
    "            batch_index = 0        \n",
    "        batch_df = df[current_index:current_index+current_batch_size]\n",
    "        batch_x = np.zeros((batch_df.shape[0], ROWS, COLS, 3), dtype=K.floatx())\n",
    "        i = 0\n",
    "        for index,row in batch_df.iterrows():\n",
    "            row = row.tolist()\n",
    "            image_file = os.path.join(TRAIN_DIR, row[0]+'.jpg')\n",
    "            cropped = load_img(image_file,target_size=(ROWS,COLS))\n",
    "            x = np.asarray(cropped, dtype=K.floatx())       \n",
    "            x = preprocess_input(x)\n",
    "            batch_x[i] = x\n",
    "            i += 1\n",
    "        yield(batch_x.transpose(0, 3, 1, 2))"
   ]
  },
  {
   "cell_type": "code",
   "execution_count": 4,
   "metadata": {
    "collapsed": false
   },
   "outputs": [
    {
     "data": {
      "text/html": [
       "<div>\n",
       "<table border=\"1\" class=\"dataframe\">\n",
       "  <thead>\n",
       "    <tr>\n",
       "      <th></th>\n",
       "      <th>img</th>\n",
       "      <th>count</th>\n",
       "      <th>bins</th>\n",
       "    </tr>\n",
       "    <tr>\n",
       "      <th></th>\n",
       "      <th></th>\n",
       "      <th></th>\n",
       "      <th></th>\n",
       "    </tr>\n",
       "  </thead>\n",
       "  <tbody>\n",
       "    <tr>\n",
       "      <th>0</th>\n",
       "      <td>0_03</td>\n",
       "      <td>1</td>\n",
       "      <td>(0, 1]</td>\n",
       "    </tr>\n",
       "    <tr>\n",
       "      <th>1</th>\n",
       "      <td>0_04</td>\n",
       "      <td>8</td>\n",
       "      <td>(1, 1000]</td>\n",
       "    </tr>\n",
       "  </tbody>\n",
       "</table>\n",
       "</div>"
      ],
      "text/plain": [
       "    img count       bins\n",
       "                        \n",
       "0  0_03     1     (0, 1]\n",
       "1  0_04     8  (1, 1000]"
      ]
     },
     "execution_count": 4,
     "metadata": {},
     "output_type": "execute_result"
    }
   ],
   "source": [
    "# Load up the count per image\n",
    "\n",
    "coords = pd.read_csv(os.path.join(FEAT_DIR, \"block_coords.csv\"))\n",
    "coords = coords[['id', 'block', 'colors']].groupby(['id', 'block']).agg(['count']).reset_index()\n",
    "coords['img'] = coords['id'].apply(str) + '_' + coords['block'].map(\"{:02}\".format).apply(str) # format(row['block'], '02d')\n",
    "coords['count'] = coords['colors']\n",
    "coords['bins'] = pd.cut(coords['count'], bins=bins)\n",
    "coords = coords[['img', 'count', 'bins']]\n",
    "\n",
    "#coords.columns = ['img', 'count', 'bins']\n",
    "coords.head(2)"
   ]
  },
  {
   "cell_type": "code",
   "execution_count": 5,
   "metadata": {
    "collapsed": true
   },
   "outputs": [],
   "source": [
    "# Lets make our validation set\n",
    "folds = [coords.img.str.split('_').apply(lambda x: x[0]).astype(int) % 2 != 0,\n",
    "        coords.img.str.split('_').apply(lambda x: x[0]).astype(int) % 2 == 0]"
   ]
  },
  {
   "cell_type": "code",
   "execution_count": 6,
   "metadata": {
    "collapsed": false
   },
   "outputs": [
    {
     "name": "stdout",
     "output_type": "stream",
     "text": [
      "Fold: 2\n",
      "Epoch 1/1\n",
      "5120/5120 [==============================] - 332s - loss: 194.6234 - val_loss: 409.3521\n",
      "Epoch 1/1\n",
      "5120/5120 [==============================] - 328s - loss: 196.4198 - val_loss: 409.3519\n",
      "Epoch 1/1\n",
      "5120/5120 [==============================] - 332s - loss: 202.3365 - val_loss: 409.3513\n",
      "Epoch 1/1\n",
      "5120/5120 [==============================] - 329s - loss: 205.8670 - val_loss: 369.9639\n",
      "Epoch 1/1\n",
      "5120/5120 [==============================] - 337s - loss: 150.4492 - val_loss: 308.0206\n",
      "Epoch 1/1\n",
      "5120/5120 [==============================] - 337s - loss: 155.9636 - val_loss: 293.8772\n",
      "Epoch 1/1\n",
      "5120/5120 [==============================] - 336s - loss: 138.8840 - val_loss: 260.0814\n",
      "Epoch 1/1\n",
      "5120/5120 [==============================] - 338s - loss: 115.1754 - val_loss: 304.6801\n",
      "Epoch 1/1\n",
      "5120/5120 [==============================] - 334s - loss: 112.4992 - val_loss: 235.0467\n",
      "Epoch 1/1\n",
      "5120/5120 [==============================] - 337s - loss: 104.4110 - val_loss: 249.3565\n",
      "Epoch 1/1\n",
      "5120/5120 [==============================] - 333s - loss: 93.6523 - val_loss: 191.6441\n",
      "Epoch 1/1\n",
      "5120/5120 [==============================] - 337s - loss: 79.1391 - val_loss: 191.7799\n",
      "Epoch 1/1\n",
      "5120/5120 [==============================] - 332s - loss: 94.4134 - val_loss: 211.9966\n",
      "Epoch 1/1\n",
      "5120/5120 [==============================] - 335s - loss: 69.4891 - val_loss: 162.7606\n",
      "Epoch 1/1\n",
      "5120/5120 [==============================] - 330s - loss: 72.1265 - val_loss: 157.3391\n"
     ]
    },
    {
     "data": {
      "text/plain": [
       "0"
      ]
     },
     "execution_count": 6,
     "metadata": {},
     "output_type": "execute_result"
    }
   ],
   "source": [
    "for fold in range(1, 2):\n",
    "    print \"Fold: \" + str(fold+1)\n",
    "    train_df = coords[~folds[fold]]\n",
    "    test_df = coords[folds[fold]]\n",
    "    valid_df = test_df\n",
    "    # Set up validation data\n",
    "    df_1 = valid_df\n",
    "    l = valid_df.groupby('bins').size()\n",
    "    valid_x = np.zeros((valid_df.shape[0], ROWS, COLS, 3), dtype=K.floatx())\n",
    "    valid_y = np.zeros((valid_df.shape[0], 1), dtype=K.floatx())\n",
    "    i = 0\n",
    "    for index,row in valid_df.iterrows():\n",
    "        row = row.tolist()\n",
    "        image_file = os.path.join(TRAIN_DIR, row[0])\n",
    "        cropped = load_img(image_file+'.jpg',target_size=(ROWS,COLS))\n",
    "        x = np.asarray(cropped, dtype=K.floatx())\n",
    "        x = preprocess_input(x)\n",
    "        valid_x[i] = x\n",
    "        valid_y[i] = row[1]\n",
    "        i += 1\n",
    "    valid_x = valid_x.transpose(0, 3, 1, 2)\n",
    "    # Load our model\n",
    "    nb_epoch = 1\n",
    "    samples_per_epoch = 64*80\n",
    "    model = get_model(ROWS, COLS, channel, num_class)\n",
    "    # Start learning\n",
    "    preds = []\n",
    "    model.optimizer.lr = 5e-6\n",
    "    for i in range(15): \n",
    "        model.fit_generator(train_generator(train_datagen, train_df),\n",
    "                  nb_epoch=nb_epoch,\n",
    "                  samples_per_epoch=samples_per_epoch, #50000,\n",
    "                  verbose=1,\n",
    "                  validation_data=(valid_x, valid_y),\n",
    "                  )\n",
    "        if i > 11:\n",
    "            predstmp = model.predict_generator(testcv_generator(test_df), val_samples=test_df.shape[0])\n",
    "            preds.append(predstmp)\n",
    "        # Test\n",
    "    test_preds = sum(preds)/len(preds)\n",
    "    df = pd.concat([test_df.reset_index(drop=True), pd.DataFrame(test_preds,  columns=['predCount'])], axis=1)\n",
    "    df.columns = ['img', 'count', 'bins', 'predCount']\n",
    "    df[['img', 'predCount']].to_csv('../coords/vggcountCVPreds2604_fold' + str(fold+1) + '.csv', index=False)\n",
    "    ### Clean up\n",
    "    # del model, train_df, test_df, valid_df, valid_x, df_1\n",
    "    gc.collect()\n",
    "    gc.collect()"
   ]
  },
  {
   "cell_type": "code",
   "execution_count": 7,
   "metadata": {
    "collapsed": false
   },
   "outputs": [
    {
     "name": "stdout",
     "output_type": "stream",
     "text": [
      "12.7019645259\n",
      "17.1799442639\n"
     ]
    },
    {
     "data": {
      "image/png": "[encoded data removed]",
      "text/plain": [
       "<matplotlib.figure.Figure at 0x7fe03c6a6450>"
      ]
     },
     "metadata": {},
     "output_type": "display_data"
    }
   ],
   "source": [
    "from sklearn.metrics import mean_squared_error\n",
    "import matplotlib.pyplot as plt\n",
    "#test_df = coords[folds[fold]]\n",
    "y_true = df['count'].tolist()\n",
    "y_pred = df['predCount'].tolist()\n",
    "print(mean_squared_error(y_true, y_pred)**0.5)\n",
    "print(mean_squared_error(y_true, [np.mean(y_true)]*len(y_true))**0.5)\n",
    "plt.scatter(y_true, y_pred)\n",
    "plt.show()"
   ]
  },
  {
   "cell_type": "code",
   "execution_count": 8,
   "metadata": {
    "collapsed": false
   },
   "outputs": [
    {
     "data": {
      "text/plain": [
       "[1]"
      ]
     },
     "execution_count": 8,
     "metadata": {},
     "output_type": "execute_result"
    }
   ],
   "source": [
    "range(1,2)"
   ]
  }
 ],
 "metadata": {
  "anaconda-cloud": {},
  "kernelspec": {
   "display_name": "Python [conda root]",
   "language": "python",
   "name": "conda-root-py"
  },
  "language_info": {
   "codemirror_mode": {
    "name": "ipython",
    "version": 2
   },
   "file_extension": ".py",
   "mimetype": "text/x-python",
   "name": "python",
   "nbconvert_exporter": "python",
   "pygments_lexer": "ipython2",
   "version": "2.7.12"
  }
 },
 "nbformat": 4,
 "nbformat_minor": 1
}
