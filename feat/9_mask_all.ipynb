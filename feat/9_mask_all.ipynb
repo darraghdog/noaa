{
 "cells": [
  {
   "cell_type": "code",
   "execution_count": 1,
   "metadata": {
    "collapsed": true
   },
   "outputs": [],
   "source": [
    "import os\n",
    "import pandas as pd\n",
    "from matplotlib import pyplot as plt\n",
    "import scipy\n",
    "from shutil import copyfile\n",
    "from scipy import misc, ndimage\n",
    "from scipy.ndimage.interpolation import zoom\n",
    "from scipy.ndimage import imread\n",
    "from scipy.misc import imsave\n",
    "from PIL import Image\n",
    "import numpy as np\n",
    "import warnings\n",
    "import matplotlib.pyplot as plt\n",
    "from skimage import draw\n",
    "warnings.filterwarnings('ignore')"
   ]
  },
  {
   "cell_type": "code",
   "execution_count": 6,
   "metadata": {
    "collapsed": false
   },
   "outputs": [],
   "source": [
    "# 'adult_males', 'subadult_males','adult_females','juveniles','pups',\n",
    "# os.chdir('/home/darragh/Dropbox/noaa/feat')\n",
    "boundaries = [70,60,50,50,30]\n",
    "colors = ['red', 'blue', 'green', 'yellow', 'pink']\n",
    "validate = False\n",
    "validate_rfcn = False\n",
    "bbimg_trn = False\n",
    "bbimg_tst = False # this is the big one\n",
    "bbimgblk_trn = False\n",
    "annotations = False\n",
    "boundary = 40\n",
    "block_size = 544\n",
    "img_w = 4896 # width\n",
    "img_h = 3264 # height\n",
    "MASK_FOLDER = '/home/ubuntu/noaa/data/mask/all/'"
   ]
  },
  {
   "cell_type": "code",
   "execution_count": 3,
   "metadata": {
    "collapsed": false
   },
   "outputs": [],
   "source": [
    "def makeDir(name):\n",
    "    if not os.path.exists(name):\n",
    "        os.mkdir(name)\n",
    "\n",
    "# Load up the coordinates\n",
    "coords = pd.read_csv(\"../coords/block_coords.csv\")\n",
    "coords = coords[['id', 'block', 'class', 'block_width', 'block_height']]\n",
    "img_files = coords[['id', 'block']].drop_duplicates().reset_index(drop=True)"
   ]
  },
  {
   "cell_type": "code",
   "execution_count": 10,
   "metadata": {
    "collapsed": false
   },
   "outputs": [],
   "source": [
    "for c, row in img_files.reset_index(drop=True).iterrows():\n",
    "    dftmp = coords[(coords['id']==row['id']) & (coords['block']==row['block']) ].reset_index(drop=True)\n",
    "    tif = np.zeros((544,544))\n",
    "    for c1, row1 in dftmp.iterrows():\n",
    "        radius = boundaries[row1['class']]/2\n",
    "        rr, cc = draw.circle(row1['block_height'], row1['block_width'], radius=radius, shape=tif.shape)\n",
    "        tif[rr, cc] = 1\n",
    "    imsave(MASK_FOLDER + '%s_%s.tif'%(row[0], str(row[1]).zfill(2)), tif)"
   ]
  }
 ],
 "metadata": {
  "anaconda-cloud": {},
  "kernelspec": {
   "display_name": "Python [conda root]",
   "language": "python",
   "name": "conda-root-py"
  },
  "language_info": {
   "codemirror_mode": {
    "name": "ipython",
    "version": 2
   },
   "file_extension": ".py",
   "mimetype": "text/x-python",
   "name": "python",
   "nbconvert_exporter": "python",
   "pygments_lexer": "ipython2",
   "version": "2.7.12"
  }
 },
 "nbformat": 4,
 "nbformat_minor": 1
}
